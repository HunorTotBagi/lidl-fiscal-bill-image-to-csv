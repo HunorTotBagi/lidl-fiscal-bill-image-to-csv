{
 "cells": [
  {
   "cell_type": "code",
   "execution_count": 1,
   "id": "a2be4426",
   "metadata": {},
   "outputs": [
    {
     "data": {
      "text/plain": [
       "'Kopija racuna\\nBle\\nTo]\\n| i 1 ‘\\n=Sesss======= OVCKANHM PAUYH ============\\n106884584\\nLIDL SRBIJA\\n1057444-Prodavnica br. 0155\\n@YTOWUKM NYT 48\\nHospu Cag\\nKacup: 34\\nECUP 6poj: 625/12.08.09.60\\n------------ [POMET MPOAAJA ------------\\nApTMKau\\nHa3vBe- Lena Kon. YkKyNHO\\nBurek sa sirom/KOM (E)\\n41,99 3 125,97\\nPegéenica dimljena/KOM (b)\\n\\n109,99 1 109,99\\nMortadela s maslin./KOM (Bb)\\n\\n139,99 1 139,99\\nBaget/KOM (E)\\n\\n89,99 1 89,99\\nParadajz grap./KG (E)\\n\\n169,99 0,806 137,01\\nKulen/KOM (5b)\\n\\n299,99 1 299,99\\nSalata kristal./KOM (E)\\n\\n69,99 1 69,99\\nTuna paSteta 95g/KOM (hb)\\n\\n102,99 1 102,99\\nCoca Cola/KOM (b)\\n\\n239,99 1 239,99\\nGrozde crno bes/KOM (E)\\n\\n149,99 2 299,98\\nBanane, rinfuz/KG (E)\\n\\n179,99 0,722 129,95\\nBela kajzerica/KOM (E)\\n\\n11,99 4 47,97\\nKrompir b. mlad/KG (E)\\n\\n129,99 1,334 173,41\\nAmadori C¢ure¢a krila/KG (E)\\n\\n329,99 1,108 365,63\\nYkynaH W3HOC: 2.332,85\\nTOTOBUHa: 2.000 ,00\\nTOTOBUHa: 1.000,00\\nnoBpahaj: 667,00\\nO3HaKa Vime Ctona Nope3\\nB 0-néB 20, 00% 148,83\\nE n-nAB 10, 00% 130,90\\nYkynaH W3HOC Nope3a: 279,73\\nNOP Bpeme: 05.06.2023. 13:54:22\\nNOP 6poj payyHa: UT3JGR3Y-UT3JGR3Y-276522\\nBpojay pauyua: 272860/276522MN\\n=sessss=== KPAJ OUCKAHOP PAYYHA ========\\n0155 455020/02 05.06.2023 13:54:11\\nBurek sa sirom/KOM\\n\\n3x 62,99 188,97 E\\nCena nakon popusta: 125,97\\nTuna paSteta 95g/KOM\\n1x 139,99 139,99 B\\nCena nakon popusta: 102,99\\nBela kajzerica/KOM\\n4x 15,99 63,96 E\\nCena nakon popusta: 47,97\\nUkupna usteda 115,99\\nUsteda uz Lidl Plus\\n52,99 RSD\\nHvala sto koristite Lidl Plus\\nbbl bea 2 ee\\nagent U NOes\\noy irene ec Reh\\nee As aed\\nSS ea\\nae a Bets -\\nMA Ba oe oe PE a A\\n- arte aye: ae eT\\nRu serote lanes\\nea a fy et it arr xf\\nOp eae ae career gee\\nPovrat neprehrambenih artikala je mogué uz papirni ili digitalni raéun i originalno\\npakovanje u roku od 30 dana ed datuma kupovine.\\nHVALA VAM 5TO KUPUJETE UZ LIDL PLUS\\nMesto kupovine\\nNovi Sad - Futoski put\\nFutoski put 48\\n21000 Novi Sad\\nDetalji prodavnice\\nIskoriSéeni kuponi\\nVY 3+1GRATIS - Bela kajzerica\\nKupon vaii od 31/05/2023 do 07/06/2023 ih do isteka zaliha Cene su izrazene\\nudmarma, sa PDV-om Da bi popust bio obraéunat, potrebno ye da se kupon\\nprethodno aktivira1 da se Lidl Plus digitalna kartica skeniva na kast Nakon\\naktivacye, kupon je moguée iskoristit samo jednom Razliéite viste popusta nye\\nmoguée sabirat: na istom ariklu. Fotografija ne mora u potpunosti da odgovara\\nstyarnom izgledu proizvoda\\nVY ~26% POPUST - Tuna pasteta\\nProizvodi su dostupm do isteka zaliha il do zavrSetka akcyskog perioda Mote\\nsé desitt da se proizvodi rasprodaju pre kraya trayanya akeye Koliéme akeyskih\\nproizvoda po kupcu mogu bit: ograméene Nakon Sto dobyes Grebalicu mas |\\ndan da ye ogrebes, Nakon Sto je ogrebes, kupon prelaziu deo sa kuponma ma’\\n7 dana da ga skonst3 Cene su izrazene u dmarma, sa PDV-om Da bi popust bio\\nobracunat, potrebno je da se kupon prethodno aktrvira1 da se Lidl Plus cigitalna\\nkartica skentra na kas1 Kupon je moguée iskoristit samo jednom, nakon Zea\\née nestati 1z aphikacye Popuste mye moguée kombmovat Fotografija ne mora uw\\npotpunost da odgovara stvarnom izgledu proizvoda\\n'"
      ]
     },
     "execution_count": 1,
     "metadata": {},
     "output_type": "execute_result"
    }
   ],
   "source": [
    "import pytesseract\n",
    "import cv2\n",
    "\n",
    "pytesseract.pytesseract.tesseract_cmd = 'C:/Program Files/Tesseract-OCR/tesseract.exe'  # your path may be different\n",
    "\n",
    "# Loading the image\n",
    "image = cv2.imread('fiscal-bill-images/05-06-2023-lidl.png')\n",
    "\n",
    "# Preprocess the image\n",
    "gray = cv2.cvtColor(image, cv2.COLOR_BGR2GRAY)  # Convert the image to grayscale\n",
    "threshold = cv2.threshold(gray, 0, 255, cv2.THRESH_BINARY | cv2.THRESH_OTSU)[1]  # Apply binary thresholding\n",
    "\n",
    "# Set Tesseract configuration parameters for better extraction\n",
    "custom_config = r'--oem 3 --psm 6'\n",
    "\n",
    "# Perform OCR using PyTesseract\n",
    "text = pytesseract.image_to_string(threshold, config=custom_config, lang='eng')  # Extract text from the preprocessed image\n",
    "\n",
    "text  # Print the extracted text"
   ]
  },
  {
   "cell_type": "markdown",
   "id": "65c812e0",
   "metadata": {},
   "source": [
    "The goal is the extract the name of the product and the price. We can notice that we need data that comes after 'Ha3vBe- Lena Kon. YkKyNHO\\n' and until '\\nYkynaH W3HOC'"
   ]
  },
  {
   "cell_type": "code",
   "execution_count": 2,
   "id": "2c6d23e9",
   "metadata": {},
   "outputs": [
    {
     "data": {
      "text/plain": [
       "'Burek sa sirom/KOM (E)\\n41,99 3 125,97\\nPegéenica dimljena/KOM (b)\\n\\n109,99 1 109,99\\nMortadela s maslin./KOM (Bb)\\n\\n139,99 1 139,99\\nBaget/KOM (E)\\n\\n89,99 1 89,99\\nParadajz grap./KG (E)\\n\\n169,99 0,806 137,01\\nKulen/KOM (5b)\\n\\n299,99 1 299,99\\nSalata kristal./KOM (E)\\n\\n69,99 1 69,99\\nTuna paSteta 95g/KOM (hb)\\n\\n102,99 1 102,99\\nCoca Cola/KOM (b)\\n\\n239,99 1 239,99\\nGrozde crno bes/KOM (E)\\n\\n149,99 2 299,98\\nBanane, rinfuz/KG (E)\\n\\n179,99 0,722 129,95\\nBela kajzerica/KOM (E)\\n\\n11,99 4 47,97\\nKrompir b. mlad/KG (E)\\n\\n129,99 1,334 173,41\\nAmadori C¢ure¢a krila/KG (E)\\n\\n329,99 1,108 365,63'"
      ]
     },
     "execution_count": 2,
     "metadata": {},
     "output_type": "execute_result"
    }
   ],
   "source": [
    "start_string = 'Ha3vBe- Lena Kon. YkKyNHO\\n'  # Define the starting substring\n",
    "end_string = '\\nYkynaH W3HOC'  # Define the ending substring\n",
    "\n",
    "def find_substring(string, substring):\n",
    "    \"\"\"\n",
    "    Find the index of the first occurrence of a substring within a string.\n",
    "\n",
    "    Args:\n",
    "        string (str): The string to search within.\n",
    "        substring (str): The substring to find.\n",
    "\n",
    "    Returns:\n",
    "        int: The index of the first occurrence of the substring, or -1 if not found.\n",
    "    \"\"\"\n",
    "    index = string.find(substring)  # Use the find() method to locate the substring\n",
    "    return index\n",
    "\n",
    "start_index = find_substring(text, start_string) + len(start_string)  # Find the start index of the desired substring\n",
    "end_index = find_substring(text, end_string)  # Find the end index of the desired substring\n",
    "\n",
    "articles = text[start_index:end_index]  # Extract the substring between the start and end indices\n",
    "articles\n"
   ]
  },
  {
   "cell_type": "code",
   "execution_count": 3,
   "id": "481528c6",
   "metadata": {},
   "outputs": [],
   "source": [
    "lines = articles.split('\\n')  # Split the extracted substring into a list of lines using the newline character as the delimiter\n",
    "clean_lines = []  # Initialize an empty list to store the clean lines\n",
    "\n",
    "for i in range(len(lines)):\n",
    "    if lines[i] != '':\n",
    "        clean_lines.append(lines[i])  # Append non-empty lines to the clean_lines list"
   ]
  },
  {
   "cell_type": "code",
   "execution_count": 4,
   "id": "bd718376",
   "metadata": {},
   "outputs": [
    {
     "data": {
      "text/plain": [
       "['Burek sa sirom/KOM (E)',\n",
       " '41,99 3 125,97',\n",
       " 'Pegéenica dimljena/KOM (b)',\n",
       " '109,99 1 109,99',\n",
       " 'Mortadela s maslin./KOM (Bb)',\n",
       " '139,99 1 139,99',\n",
       " 'Baget/KOM (E)',\n",
       " '89,99 1 89,99',\n",
       " 'Paradajz grap./KG (E)',\n",
       " '169,99 0,806 137,01',\n",
       " 'Kulen/KOM (5b)',\n",
       " '299,99 1 299,99',\n",
       " 'Salata kristal./KOM (E)',\n",
       " '69,99 1 69,99',\n",
       " 'Tuna paSteta 95g/KOM (hb)',\n",
       " '102,99 1 102,99',\n",
       " 'Coca Cola/KOM (b)',\n",
       " '239,99 1 239,99',\n",
       " 'Grozde crno bes/KOM (E)',\n",
       " '149,99 2 299,98',\n",
       " 'Banane, rinfuz/KG (E)',\n",
       " '179,99 0,722 129,95',\n",
       " 'Bela kajzerica/KOM (E)',\n",
       " '11,99 4 47,97',\n",
       " 'Krompir b. mlad/KG (E)',\n",
       " '129,99 1,334 173,41',\n",
       " 'Amadori C¢ure¢a krila/KG (E)',\n",
       " '329,99 1,108 365,63']"
      ]
     },
     "execution_count": 4,
     "metadata": {},
     "output_type": "execute_result"
    }
   ],
   "source": [
    "clean_lines"
   ]
  },
  {
   "cell_type": "code",
   "execution_count": 5,
   "id": "136495d8",
   "metadata": {},
   "outputs": [
    {
     "data": {
      "text/html": [
       "<div>\n",
       "<style scoped>\n",
       "    .dataframe tbody tr th:only-of-type {\n",
       "        vertical-align: middle;\n",
       "    }\n",
       "\n",
       "    .dataframe tbody tr th {\n",
       "        vertical-align: top;\n",
       "    }\n",
       "\n",
       "    .dataframe thead th {\n",
       "        text-align: right;\n",
       "    }\n",
       "</style>\n",
       "<table border=\"1\" class=\"dataframe\">\n",
       "  <thead>\n",
       "    <tr style=\"text-align: right;\">\n",
       "      <th></th>\n",
       "      <th>article name</th>\n",
       "      <th>price</th>\n",
       "    </tr>\n",
       "  </thead>\n",
       "  <tbody>\n",
       "    <tr>\n",
       "      <th>0</th>\n",
       "      <td>Burek sa sirom</td>\n",
       "      <td>=41.99*3</td>\n",
       "    </tr>\n",
       "    <tr>\n",
       "      <th>1</th>\n",
       "      <td>Pegéenica dimljena</td>\n",
       "      <td>=109.99*1</td>\n",
       "    </tr>\n",
       "    <tr>\n",
       "      <th>2</th>\n",
       "      <td>Mortadela s maslin.</td>\n",
       "      <td>=139.99*1</td>\n",
       "    </tr>\n",
       "    <tr>\n",
       "      <th>3</th>\n",
       "      <td>Baget</td>\n",
       "      <td>=89.99*1</td>\n",
       "    </tr>\n",
       "    <tr>\n",
       "      <th>4</th>\n",
       "      <td>Paradajz grap.</td>\n",
       "      <td>=169.99*0.806</td>\n",
       "    </tr>\n",
       "    <tr>\n",
       "      <th>5</th>\n",
       "      <td>Kulen</td>\n",
       "      <td>=299.99*1</td>\n",
       "    </tr>\n",
       "    <tr>\n",
       "      <th>6</th>\n",
       "      <td>Salata kristal.</td>\n",
       "      <td>=69.99*1</td>\n",
       "    </tr>\n",
       "    <tr>\n",
       "      <th>7</th>\n",
       "      <td>Tuna paSteta 95g</td>\n",
       "      <td>=102.99*1</td>\n",
       "    </tr>\n",
       "    <tr>\n",
       "      <th>8</th>\n",
       "      <td>Coca Cola</td>\n",
       "      <td>=239.99*1</td>\n",
       "    </tr>\n",
       "    <tr>\n",
       "      <th>9</th>\n",
       "      <td>Grozde crno bes</td>\n",
       "      <td>=149.99*2</td>\n",
       "    </tr>\n",
       "    <tr>\n",
       "      <th>10</th>\n",
       "      <td>Banane, rinfuz</td>\n",
       "      <td>=179.99*0.722</td>\n",
       "    </tr>\n",
       "    <tr>\n",
       "      <th>11</th>\n",
       "      <td>Bela kajzerica</td>\n",
       "      <td>=11.99*4</td>\n",
       "    </tr>\n",
       "    <tr>\n",
       "      <th>12</th>\n",
       "      <td>Krompir b. mlad</td>\n",
       "      <td>=129.99*1.334</td>\n",
       "    </tr>\n",
       "    <tr>\n",
       "      <th>13</th>\n",
       "      <td>Amadori C¢ure¢a krila</td>\n",
       "      <td>=329.99*1.108</td>\n",
       "    </tr>\n",
       "  </tbody>\n",
       "</table>\n",
       "</div>"
      ],
      "text/plain": [
       "             article name          price\n",
       "0          Burek sa sirom       =41.99*3\n",
       "1      Pegéenica dimljena      =109.99*1\n",
       "2     Mortadela s maslin.      =139.99*1\n",
       "3                   Baget       =89.99*1\n",
       "4          Paradajz grap.  =169.99*0.806\n",
       "5                   Kulen      =299.99*1\n",
       "6         Salata kristal.       =69.99*1\n",
       "7        Tuna paSteta 95g      =102.99*1\n",
       "8               Coca Cola      =239.99*1\n",
       "9         Grozde crno bes      =149.99*2\n",
       "10         Banane, rinfuz  =179.99*0.722\n",
       "11         Bela kajzerica       =11.99*4\n",
       "12        Krompir b. mlad  =129.99*1.334\n",
       "13  Amadori C¢ure¢a krila  =329.99*1.108"
      ]
     },
     "execution_count": 5,
     "metadata": {},
     "output_type": "execute_result"
    }
   ],
   "source": [
    "def create_df(lines):\n",
    "    import pandas as pd\n",
    "\n",
    "    # Create an empty data frame with two columns: 'article name' and 'price'\n",
    "    df = pd.DataFrame(columns=['article name', 'price'])\n",
    "    \n",
    "    # Iterate through the lines list, processing two lines at a time\n",
    "    for i in range(int(len(lines)/2)):\n",
    "        # Extract the article name from the first line by splitting it at '/' and taking the first part\n",
    "        article_name = lines[2*i].split('/')[0]\n",
    "        \n",
    "        # I want exactly this format =Price*quantity because in excel / google cheets this will automatically compute the price\n",
    "        # Later on I can modifty just the quantity variable\n",
    "        price = '='+lines[2*i+1].split()[0].replace(',', '.')+\"*\"+lines[2*i+1].split()[1].replace(',', '.')\n",
    "\n",
    "        # Create a dictionary representing a row with the article name and price\n",
    "        row = {'article name': article_name, 'price': price}\n",
    "\n",
    "        # Concatenate the new row to the data frame, ignoring the index to ensure consecutive indexing\n",
    "        df = pd.concat([df, pd.DataFrame([row])], ignore_index=True)\n",
    "    \n",
    "    # Return the populated data frame\n",
    "    return df\n",
    "\n",
    "# Call the create_df function with the clean_lines input and assign the resulting data frame to the variable df\n",
    "df = create_df(clean_lines)\n",
    "\n",
    "# Print the resulting data frame\n",
    "df"
   ]
  },
  {
   "cell_type": "code",
   "execution_count": 6,
   "id": "c4b8fb88",
   "metadata": {},
   "outputs": [],
   "source": [
    "# Export the data frame to a tab-separated text file named 'exported_products.txt'\n",
    "# The 'sep' parameter specifies the delimiter as a tab character\n",
    "# The 'index' parameter is set to False to exclude the index column in the exported file\n",
    "# The 'header' parameter is set to False to exclude the column headers in the exported file\n",
    "df.to_csv('exported_products.txt', sep='\\t', index=False, header=False)\n",
    "\n",
    "# Export the data frame to a CSV file named 'data.csv'\n",
    "# The 'index' parameter is set to False to exclude the index column in the exported file\n",
    "df.to_csv('exported_products.csv', index=False)"
   ]
  }
 ],
 "metadata": {
  "kernelspec": {
   "display_name": "Python 3 (ipykernel)",
   "language": "python",
   "name": "python3"
  },
  "language_info": {
   "codemirror_mode": {
    "name": "ipython",
    "version": 3
   },
   "file_extension": ".py",
   "mimetype": "text/x-python",
   "name": "python",
   "nbconvert_exporter": "python",
   "pygments_lexer": "ipython3",
   "version": "3.9.13"
  }
 },
 "nbformat": 4,
 "nbformat_minor": 5
}
